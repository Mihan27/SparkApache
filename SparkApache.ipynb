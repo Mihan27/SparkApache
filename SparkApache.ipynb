{
 "cells": [
  {
   "cell_type": "code",
   "id": "initial_id",
   "metadata": {
    "collapsed": true,
    "ExecuteTime": {
     "end_time": "2025-04-22T16:45:55.715858Z",
     "start_time": "2025-04-22T16:45:50.337643Z"
    }
   },
   "source": [
    "import findspark\n",
    "findspark.init()\n",
    "\n",
    "from pyspark import SparkContext\n",
    "from functools import reduce\n",
    "\n",
    "# Остановка существующего контекста (если есть)\n",
    "try:\n",
    "    sc.stop()\n",
    "    print(\"Предыдущий SparkContext остановлен\")\n",
    "except:\n",
    "    print(\"Нет активного SparkContext для остановки\")\n",
    "\n",
    "# Инициализация SparkContext\n",
    "sc = SparkContext(\"local\", \"Longest Sequence\")\n",
    "print(\"SparkContext успешно инициализирован\")"
   ],
   "outputs": [
    {
     "name": "stdout",
     "output_type": "stream",
     "text": [
      "Нет активного SparkContext для остановки\n",
      "SparkContext успешно инициализирован\n"
     ]
    }
   ],
   "execution_count": 1
  },
  {
   "metadata": {
    "ExecuteTime": {
     "end_time": "2025-04-22T16:46:00.250282Z",
     "start_time": "2025-04-22T16:45:58.948441Z"
    }
   },
   "cell_type": "code",
   "source": [
    "# Создание RDD с числами для анализа\n",
    "data = [3, 4, 5, 1, 2, 3, 4, 5, 6, 8, 10, 11, 12, 15, 16, 17]\n",
    "rdd = sc.parallelize(data)\n",
    "\n",
    "# Получаем данные из RDD и работаем с ними локально\n",
    "all_data = rdd.collect()\n",
    "print(\"Исходные данные:\", all_data)"
   ],
   "id": "b91f5766070fab0a",
   "outputs": [
    {
     "name": "stdout",
     "output_type": "stream",
     "text": [
      "Исходные данные: [3, 4, 5, 1, 2, 3, 4, 5, 6, 8, 10, 11, 12, 15, 16, 17]\n"
     ]
    }
   ],
   "execution_count": 2
  },
  {
   "metadata": {
    "ExecuteTime": {
     "end_time": "2025-04-22T16:46:03.197833Z",
     "start_time": "2025-04-22T16:46:03.191195Z"
    }
   },
   "cell_type": "code",
   "source": [
    "# Функция для нахождения последовательностей по возрастанию\n",
    "def find_sequences_asc(numbers):\n",
    "    sequences = []\n",
    "    current_sequence = [numbers[0]]\n",
    "\n",
    "    for i in range(1, len(numbers)):\n",
    "        if numbers[i] == numbers[i - 1]+1:\n",
    "            current_sequence.append(numbers[i])\n",
    "        else:\n",
    "            sequences.append(current_sequence)\n",
    "            current_sequence = [numbers[i]]\n",
    "\n",
    "    sequences.append(current_sequence)\n",
    "    return sequences\n",
    "\n",
    "# Функция для нахождения последовательностей по убыванию\n",
    "def find_sequences_desc(numbers):\n",
    "    sequences = []\n",
    "    current_sequence = [numbers[0]]\n",
    "\n",
    "    for i in range(1, len(numbers)):\n",
    "        if numbers[i] == numbers[i - 1]-1:\n",
    "            current_sequence.append(numbers[i])\n",
    "        else:\n",
    "            sequences.append(current_sequence)\n",
    "            current_sequence = [numbers[i]]\n",
    "\n",
    "    sequences.append(current_sequence)\n",
    "    return sequences"
   ],
   "id": "eaf1c0b804b8ff96",
   "outputs": [],
   "execution_count": 3
  },
  {
   "metadata": {
    "ExecuteTime": {
     "end_time": "2025-04-22T16:46:06.778333Z",
     "start_time": "2025-04-22T16:46:06.770995Z"
    }
   },
   "cell_type": "code",
   "source": [
    "# Имитируем поведение glom() и flatMap()\n",
    "# Разбиваем данные на несколько частей для имитации партиций\n",
    "partition_size = max(1, len(all_data) // 4)  # Предположим, 4 партиции\n",
    "partitions = [all_data[i:i+partition_size] for i in range(0, len(all_data), partition_size)]\n",
    "print(\"Имитация партиций:\", partitions)\n",
    "\n",
    "# Применяем функции к каждой \"партиции\"\n",
    "sequences_asc = []\n",
    "sequences_desc = []\n",
    "\n",
    "for partition in partitions:\n",
    "    # Сортируем данные внутри каждой партиции\n",
    "    sorted_partition = sorted(partition)\n",
    "    reversed_partition = sorted(partition, reverse=True)\n",
    "\n",
    "    # Находим последовательности\n",
    "    sequences_asc.extend(find_sequences_asc(sorted_partition))\n",
    "    sequences_desc.extend(find_sequences_desc(reversed_partition))\n",
    "\n",
    "# Фильтруем короткие последовательности (длиной 1)\n",
    "sequences_asc = [seq for seq in sequences_asc if len(seq) > 1]\n",
    "sequences_desc = [seq for seq in sequences_desc if len(seq) > 1]\n",
    "\n",
    "print(\"Последовательности по возрастанию:\", sequences_asc)\n",
    "print(\"Последовательности по убыванию:\", sequences_desc)"
   ],
   "id": "55abb6488658ad3a",
   "outputs": [
    {
     "name": "stdout",
     "output_type": "stream",
     "text": [
      "Имитация партиций: [[3, 4, 5, 1], [2, 3, 4, 5], [6, 8, 10, 11], [12, 15, 16, 17]]\n",
      "Последовательности по возрастанию: [[3, 4, 5], [2, 3, 4, 5], [10, 11], [15, 16, 17]]\n",
      "Последовательности по убыванию: [[5, 4, 3], [5, 4, 3, 2], [11, 10], [17, 16, 15]]\n"
     ]
    }
   ],
   "execution_count": 4
  },
  {
   "metadata": {
    "ExecuteTime": {
     "end_time": "2025-04-22T16:46:10.532235Z",
     "start_time": "2025-04-22T16:46:10.526522Z"
    }
   },
   "cell_type": "code",
   "source": [
    "# Находим самые длинные последовательности\n",
    "longest_sequence_asc = max(sequences_asc, key=len) if sequences_asc else []\n",
    "longest_sequence_desc = max(sequences_desc, key=len) if sequences_desc else []\n",
    "\n",
    "print(\"Самая длинная последовательность по возрастанию:\", longest_sequence_asc)\n",
    "print(\"Самая длинная последовательность по убыванию:\", longest_sequence_desc)\n",
    "\n",
    "# Выбираем более длинную последовательность\n",
    "result = longest_sequence_asc if len(longest_sequence_asc) > len(longest_sequence_desc) else longest_sequence_desc\n",
    "\n",
    "print(f\"Самая длинная упорядоченная последовательность: {result}\")"
   ],
   "id": "e98e0e5f741155ff",
   "outputs": [
    {
     "name": "stdout",
     "output_type": "stream",
     "text": [
      "Самая длинная последовательность по возрастанию: [2, 3, 4, 5]\n",
      "Самая длинная последовательность по убыванию: [5, 4, 3, 2]\n",
      "Самая длинная упорядоченная последовательность: [5, 4, 3, 2]\n"
     ]
    }
   ],
   "execution_count": 5
  },
  {
   "metadata": {
    "ExecuteTime": {
     "end_time": "2025-04-22T16:46:16.003322Z",
     "start_time": "2025-04-22T16:46:15.466956Z"
    }
   },
   "cell_type": "code",
   "source": [
    "# Останавливаем SparkContext\n",
    "sc.stop()\n",
    "print(\"SparkContext остановлен\")"
   ],
   "id": "17f5327140c52081",
   "outputs": [
    {
     "name": "stdout",
     "output_type": "stream",
     "text": [
      "SparkContext остановлен\n"
     ]
    }
   ],
   "execution_count": 6
  }
 ],
 "metadata": {
  "kernelspec": {
   "display_name": "Python 3",
   "language": "python",
   "name": "python3"
  },
  "language_info": {
   "codemirror_mode": {
    "name": "ipython",
    "version": 2
   },
   "file_extension": ".py",
   "mimetype": "text/x-python",
   "name": "python",
   "nbconvert_exporter": "python",
   "pygments_lexer": "ipython2",
   "version": "2.7.6"
  }
 },
 "nbformat": 4,
 "nbformat_minor": 5
}
