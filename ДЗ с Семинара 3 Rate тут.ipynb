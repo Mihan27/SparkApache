{
  "nbformat": 4,
  "nbformat_minor": 0,
  "metadata": {
    "colab": {
      "provenance": []
    },
    "kernelspec": {
      "name": "python3",
      "display_name": "Python 3"
    },
    "language_info": {
      "name": "python"
    }
  },
  "cells": [
    {
      "cell_type": "code",
      "execution_count": 9,
      "metadata": {
        "colab": {
          "base_uri": "https://localhost:8080/"
        },
        "id": "la9COvOj1Ibt",
        "outputId": "cd3e99f0-6640-4048-deaa-f1fd10dd531a"
      },
      "outputs": [
        {
          "output_type": "stream",
          "name": "stdout",
          "text": [
            "Batch 0: [{'sum_of_odd_numbers': None}]\n",
            "Текущая сумма нечетных чисел: [{'sum_of_odd_numbers': None}]\n",
            "Batch 1: [{'sum_of_odd_numbers': 0}]\n",
            "Текущая сумма нечетных чисел: [{'sum_of_odd_numbers': 0}]\n",
            "Batch 2: [{'sum_of_odd_numbers': 1}]\n",
            "Batch 3: [{'sum_of_odd_numbers': 1}]\n",
            "Текущая сумма нечетных чисел: [{'sum_of_odd_numbers': 1}]\n",
            "Batch 4: [{'sum_of_odd_numbers': 4}]\n",
            "Текущая сумма нечетных чисел: [{'sum_of_odd_numbers': 4}]\n",
            "Batch 5: [{'sum_of_odd_numbers': 4}]\n",
            "Текущая сумма нечетных чисел: [{'sum_of_odd_numbers': 4}]\n",
            "Batch 6: [{'sum_of_odd_numbers': 9}]\n",
            "Текущая сумма нечетных чисел: [{'sum_of_odd_numbers': 9}]\n",
            "Batch 7: [{'sum_of_odd_numbers': 9}]\n",
            "Текущая сумма нечетных чисел: [{'sum_of_odd_numbers': 9}]\n",
            "Batch 8: [{'sum_of_odd_numbers': 16}]\n",
            "Текущая сумма нечетных чисел: [{'sum_of_odd_numbers': 16}]\n",
            "Batch 9: [{'sum_of_odd_numbers': 16}]\n",
            "Итоговый результат:\n",
            "[{'sum_of_odd_numbers': 16}]\n",
            "Успешно выполнено!\n"
          ]
        }
      ],
      "source": [
        "from pyspark.sql import SparkSession\n",
        "from pyspark.sql.functions import col, sum, when\n",
        "import time\n",
        "\n",
        "try:\n",
        "    # Создаем сессию Spark\n",
        "    spark = SparkSession.builder.appName(\"OddNumbersSum\").getOrCreate()\n",
        "\n",
        "    # Читаем поток данных из источника rate\n",
        "    df = spark.readStream.format(\"rate\").load()\n",
        "\n",
        "    # Создаем новый столбец с нечетными числами\n",
        "    df_with_odd_sum = df.withColumn(\"odd_value\",\n",
        "                                  when(col(\"value\") % 2 == 1, col(\"value\"))\n",
        "                                  .otherwise(0))\n",
        "\n",
        "    # Суммируем нечетные числа\n",
        "    df_sum_odds = df_with_odd_sum.agg(sum(\"odd_value\").alias(\"sum_of_odd_numbers\"))\n",
        "\n",
        "    # Создаем буфер для хранения последних результатов\n",
        "    latest_results = []\n",
        "\n",
        "    # Функция для сбора результатов\n",
        "    def process_batch(df, batch_id):\n",
        "        # Конвертируем DataFrame в список словарей\n",
        "        results = [row.asDict() for row in df.collect()]\n",
        "        # Сохраняем последний результат\n",
        "        if results:\n",
        "            latest_results.clear()\n",
        "            latest_results.extend(results)\n",
        "        print(f\"Batch {batch_id}: {results}\")\n",
        "\n",
        "    # Запускаем поток, используя метод foreachBatch\n",
        "    query = df_sum_odds.writeStream\\\n",
        "        .foreachBatch(process_batch)\\\n",
        "        .outputMode(\"update\")\\\n",
        "        .start()\n",
        "\n",
        "    # Ждем 10 секунд и собираем результаты\n",
        "    start_time = time.time()\n",
        "    while time.time() - start_time < 10:\n",
        "        if latest_results:\n",
        "            print(f\"Текущая сумма нечетных чисел: {latest_results}\")\n",
        "        time.sleep(1)\n",
        "\n",
        "    # Останавливаем запрос\n",
        "    query.stop()\n",
        "\n",
        "    print(\"Итоговый результат:\")\n",
        "    print(latest_results)\n",
        "    print(\"Успешно выполнено!\")\n",
        "\n",
        "except Exception as e:\n",
        "    print(f\"Произошла ошибка: {e}\")"
      ]
    }
  ]
}