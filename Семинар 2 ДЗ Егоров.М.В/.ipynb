{
  "nbformat": 4,
  "nbformat_minor": 0,
  "metadata": {
    "colab": {
      "provenance": []
    },
    "kernelspec": {
      "name": "python3",
      "display_name": "Python 3"
    },
    "language_info": {
      "name": "python"
    }
  },
  "cells": [
    {
      "cell_type": "code",
      "execution_count": 1,
      "metadata": {
        "colab": {
          "base_uri": "https://localhost:8080/"
        },
        "id": "la9COvOj1Ibt",
        "outputId": "1367a206-0ba5-4a36-e146-8fd978a430dd"
      },
      "outputs": [
        {
          "output_type": "stream",
          "name": "stdout",
          "text": [
            "Requirement already satisfied: pyspark in /usr/local/lib/python3.11/dist-packages (3.5.5)\n",
            "Requirement already satisfied: py4j==0.10.9.7 in /usr/local/lib/python3.11/dist-packages (from pyspark) (0.10.9.7)\n",
            "Исходная таблица:\n",
            "+---+-----+------+---------+\n",
            "| id| name|salary|managerId|\n",
            "+---+-----+------+---------+\n",
            "|  1|  Joe|    70|        3|\n",
            "|  2|Henry|    80|        4|\n",
            "|  3|  Sam|    60|     NULL|\n",
            "|  4|  Max|    90|     NULL|\n",
            "+---+-----+------+---------+\n",
            "\n",
            "Сотрудники, которые зарабатывают больше своих менеджеров:\n",
            "+----+\n",
            "|name|\n",
            "+----+\n",
            "| Joe|\n",
            "+----+\n",
            "\n"
          ]
        }
      ],
      "source": [
        "# Установка PySpark\n",
        "!pip install pyspark\n",
        "\n",
        "# Импорт необходимых библиотек\n",
        "from pyspark.sql import SparkSession\n",
        "\n",
        "# Создание сессии Spark\n",
        "spark = SparkSession.builder \\\n",
        "    .appName(\"EmployeeSalaryComparison\") \\\n",
        "    .getOrCreate()\n",
        "\n",
        "# Создание данных для таблицы\n",
        "data = [(1, \"Joe\", 70, 3),\n",
        "        (2, \"Henry\", 80, 4),\n",
        "        (3, \"Sam\", 60, None),\n",
        "        (4, \"Max\", 90, None)]\n",
        "\n",
        "# Создание DataFrame с указанием имен столбцов\n",
        "df = spark.createDataFrame(data, [\"id\", \"name\", \"salary\", \"managerId\"])\n",
        "\n",
        "# Показать созданную таблицу\n",
        "print(\"Исходная таблица:\")\n",
        "df.show()\n",
        "\n",
        "# Регистрируем DataFrame как временное представление для SQL-запросов\n",
        "df.createOrReplaceTempView(\"employees\")\n",
        "\n",
        "# Выполняем SQL-запрос для получения имен сотрудников, которые зарабатывают больше своих менеджеров\n",
        "result = spark.sql(\"\"\"\n",
        "SELECT e.name\n",
        "FROM employees e\n",
        "JOIN employees m ON e.managerId = m.id\n",
        "WHERE e.salary > m.salary\n",
        "\"\"\")\n",
        "\n",
        "# Выводим результат\n",
        "print(\"Сотрудники, которые зарабатывают больше своих менеджеров:\")\n",
        "result.show()"
      ]
    }
  ]
}
