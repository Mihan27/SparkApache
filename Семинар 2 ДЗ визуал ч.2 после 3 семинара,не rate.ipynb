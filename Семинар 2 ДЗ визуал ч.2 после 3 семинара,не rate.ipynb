{
  "nbformat": 4,
  "nbformat_minor": 0,
  "metadata": {
    "colab": {
      "provenance": []
    },
    "kernelspec": {
      "name": "python3",
      "display_name": "Python 3"
    },
    "language_info": {
      "name": "python"
    }
  },
  "cells": [
    {
      "cell_type": "code",
      "execution_count": 2,
      "metadata": {
        "colab": {
          "base_uri": "https://localhost:8080/"
        },
        "id": "la9COvOj1Ibt",
        "outputId": "4503ede6-c716-4e4a-99f8-4ede00e22b64"
      },
      "outputs": [
        {
          "output_type": "stream",
          "name": "stdout",
          "text": [
            "Исходные данные:\n",
            "+----------+-----------+--------+-------+\n",
            "|      date|   category|quantity|revenue|\n",
            "+----------+-----------+--------+-------+\n",
            "|2023-11-20|Electronics|     100|  12000|\n",
            "|2023-11-21|Electronics|     110|  13000|\n",
            "|2023-11-22|Electronics|     105|  12500|\n",
            "|2023-11-20|   Clothing|     300|  15000|\n",
            "|2023-11-21|   Clothing|     280|  14000|\n",
            "|2023-11-22|   Clothing|     320|  16000|\n",
            "|2023-11-20|      Books|     150|   9000|\n",
            "|2023-11-21|      Books|     200|  12000|\n",
            "|2023-11-22|      Books|     180|  10000|\n",
            "+----------+-----------+--------+-------+\n",
            "\n",
            "Данные со средней выручкой:\n",
            "+----------+-----------+--------+-------+-----------+\n",
            "|      date|   category|quantity|revenue|avg_revenue|\n",
            "+----------+-----------+--------+-------+-----------+\n",
            "|2023-11-20|      Books|     150|   9000|     9000.0|\n",
            "|2023-11-21|      Books|     200|  12000|    12000.0|\n",
            "|2023-11-22|      Books|     180|  10000|    10000.0|\n",
            "|2023-11-20|   Clothing|     300|  15000|    15000.0|\n",
            "|2023-11-21|   Clothing|     280|  14000|    14000.0|\n",
            "|2023-11-22|   Clothing|     320|  16000|    16000.0|\n",
            "|2023-11-20|Electronics|     100|  12000|    12000.0|\n",
            "|2023-11-21|Electronics|     110|  13000|    13000.0|\n",
            "|2023-11-22|Electronics|     105|  12500|    12500.0|\n",
            "+----------+-----------+--------+-------+-----------+\n",
            "\n",
            "Результат после применения pivot:\n",
            "+-----------+----------+----------+----------+\n",
            "|   category|2023-11-20|2023-11-21|2023-11-22|\n",
            "+-----------+----------+----------+----------+\n",
            "|Electronics|   12000.0|   13000.0|   12500.0|\n",
            "|   Clothing|   15000.0|   14000.0|   16000.0|\n",
            "|      Books|    9000.0|   12000.0|   10000.0|\n",
            "+-----------+----------+----------+----------+\n",
            "\n"
          ]
        }
      ],
      "source": [
        "from pyspark.sql import SparkSession\n",
        "from pyspark.sql.functions import col, avg, round\n",
        "from pyspark.sql.window import Window\n",
        "\n",
        "# Создаем SparkSession\n",
        "spark = SparkSession.builder.appName(\"SalesAnalysis\").getOrCreate()\n",
        "\n",
        "# Создаем данные о продажах\n",
        "data = [\n",
        "    (\"2023-11-20\", \"Electronics\", 100, 12000),\n",
        "    (\"2023-11-21\", \"Electronics\", 110, 13000),\n",
        "    (\"2023-11-22\", \"Electronics\", 105, 12500),\n",
        "    (\"2023-11-20\", \"Clothing\", 300, 15000),\n",
        "    (\"2023-11-21\", \"Clothing\", 280, 14000),\n",
        "    (\"2023-11-22\", \"Clothing\", 320, 16000),\n",
        "    (\"2023-11-20\", \"Books\", 150, 9000),\n",
        "    (\"2023-11-21\", \"Books\", 200, 12000),\n",
        "    (\"2023-11-22\", \"Books\", 180, 10000)\n",
        "]\n",
        "\n",
        "# Создаем DataFrame\n",
        "df = spark.createDataFrame(data, [\"date\", \"category\", \"quantity\", \"revenue\"])\n",
        "\n",
        "# Выводим исходные данные\n",
        "print(\"Исходные данные:\")\n",
        "df.show()\n",
        "\n",
        "# 1. Рассчитываем среднюю выручку от продаж для каждой категории продукта по дням\n",
        "# Определяем оконную спецификацию для категории и даты\n",
        "window_spec = Window.partitionBy(\"category\", \"date\")\n",
        "\n",
        "# Применяем оконную функцию для расчета средней выручки\n",
        "df_with_avg = df.withColumn(\"avg_revenue\", round(avg(\"revenue\").over(window_spec), 2))\n",
        "\n",
        "print(\"Данные со средней выручкой:\")\n",
        "df_with_avg.show()\n",
        "\n",
        "# 2. Используем pivot для преобразования данных\n",
        "# Применяем group by по категории и затем pivot по дате\n",
        "pivot_df = df.groupBy(\"category\").pivot(\"date\").agg(round(avg(\"revenue\"), 2))\n",
        "\n",
        "print(\"Результат после применения pivot:\")\n",
        "pivot_df.show()"
      ]
    }
  ]
}
