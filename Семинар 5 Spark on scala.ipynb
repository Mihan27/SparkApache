{
  "nbformat": 4,
  "nbformat_minor": 0,
  "metadata": {
    "colab": {
      "provenance": []
    },
    "kernelspec": {
      "name": "python3",
      "display_name": "Python 3"
    },
    "language_info": {
      "name": "python"
    }
  },
  "cells": [
    {
      "cell_type": "code",
      "execution_count": 12,
      "metadata": {
        "colab": {
          "base_uri": "https://localhost:8080/"
        },
        "id": "la9COvOj1Ibt",
        "outputId": "456ff528-bca2-4f8d-ea1c-66ea266e1cd0"
      },
      "outputs": [
        {
          "output_type": "stream",
          "name": "stdout",
          "text": [
            "Общий объем продаж по жанрам (для книг с продажами более 3000 экз.):\n",
            "Science Fiction: 5000\n",
            "Novel: 4500\n",
            "Southern Gothic: 4000\n"
          ]
        }
      ],
      "source": [
        "# Проверка и остановка существующего SparkContext\n",
        "from pyspark import SparkContext\n",
        "if SparkContext._active_spark_context:\n",
        "    SparkContext._active_spark_context.stop()\n",
        "\n",
        "# Затем создайте новый SparkContext\n",
        "conf = SparkConf().setAppName(\"Book Sales Analysis\").setMaster(\"local[*]\")\n",
        "sc = SparkContext(conf=conf)\n",
        "\n",
        "# Создание данных для RDD\n",
        "data = [\n",
        "    (\"1984\", \"George Orwell\", \"Science Fiction\", 5000, 1949),\n",
        "    (\"The Lord of the Rings\", \"J.R.R. Tolkien\", \"Fantasy\", 3000, 1954),\n",
        "    (\"To Kill a Mockingbird\", \"Harper Lee\", \"Southern Gothic\", 4000, 1960),\n",
        "    (\"The Catcher in the Rye\", \"J.D. Salinger\", \"Novel\", 2000, 1951),\n",
        "    (\"The Great Gatsby\", \"F. Scott Fitzgerald\", \"Novel\", 4500, 1925)\n",
        "]\n",
        "\n",
        "# Создание RDD\n",
        "rdd = sc.parallelize(data)\n",
        "\n",
        "# Фильтрация книг с продажами более 3000 экземпляров\n",
        "filtered_rdd = rdd.filter(lambda x: x[3] > 3000)\n",
        "\n",
        "# Преобразование RDD для группировки по жанру (жанр, продажи)\n",
        "genre_sales_rdd = filtered_rdd.map(lambda x: (x[2], x[3]))\n",
        "\n",
        "# Суммирование продаж по жанрам\n",
        "genre_totals = genre_sales_rdd.reduceByKey(lambda a, b: a + b)\n",
        "\n",
        "# Сортировка по убыванию продаж\n",
        "sorted_results = genre_totals.sortBy(lambda x: -x[1])\n",
        "\n",
        "# Сбор и вывод результатов\n",
        "results = sorted_results.collect()\n",
        "print(\"Общий объем продаж по жанрам (для книг с продажами более 3000 экз.):\")\n",
        "for genre, sales in results:\n",
        "    print(f\"{genre}: {sales}\")\n",
        "\n",
        "# Остановка SparkContext\n",
        "sc.stop()"
      ]
    }
  ]
}